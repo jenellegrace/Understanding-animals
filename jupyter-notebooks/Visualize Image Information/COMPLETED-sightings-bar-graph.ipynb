{
 "cells": [
  {
   "cell_type": "code",
   "execution_count": null,
   "metadata": {
    "id": "jzM2rAlkFym4"
   },
   "outputs": [],
   "source": [
    "\"\"\"\n",
    "Author: Ryleigh J. Bruce\n",
    "Date: June 11, 2024\n",
    "\n",
    "Purpose: To create several bar graphs depicting the volume of animal sightings per location across, months, seasons, and species.\n",
    "\n",
    "\n",
    "Note: The author generated this text in part with GPT-4,\n",
    "OpenAI’s large-scale language-generation model. Upon generating\n",
    "draft code, the authors reviewed, edited, and revised the code\n",
    "to their own liking and takes ultimate responsibility for\n",
    "the content of this code.\n",
    "\n",
    "\"\"\""
   ]
  },
  {
   "cell_type": "markdown",
   "metadata": {},
   "source": [
    "# Introduction\n",
    "\n",
    "This notebook provides a systematic approach to visualizing animal sighting data across various locations, months, seasons, and species. The primary objective is to transform raw observational data into interpretable bar graphs that reveal patterns in animal presence and distribution. The workflow begins by mounting Google Drive to access the dataset, followed by importing essential Python libraries such as pandas and matplotlib for data manipulation and visualization. The dataset, which is structured as an Excel file, is loaded into a DataFrame, and preliminary data checks are performed to ensure integrity. The methodology involves extracting temporal features (such as month and season) from date fields, aggregating sighting counts by relevant categories (location, month, season, species), and generating grouped bar plots to illustrate these aggregations. Each section of the notebook is modular, focusing on a specific aspect of the data—monthly, seasonal, and species-based analyses—using consistent data processing and plotting techniques. The notebook emphasizes reproducibility and clarity, with markdown explanations accompanying each code block to guide users through the logic and purpose of each step. The benefits of this approach include the ability to quickly identify spatial and temporal trends in animal sightings, support for further ecological or spatial analysis, and adaptability for use with different datasets or research questions. The notebook is structured to be accessible for users with varying levels of experience in Python and data analysis, serving both as a practical tool for data exploration and as an educational resource for understanding the application of Python in ecological data visualization."
   ]
  },
  {
   "cell_type": "markdown",
   "metadata": {
    "id": "QWKvExQ5s37a"
   },
   "source": [
    "## Module: Mount the Notebook to Google Drive"
   ]
  },
  {
   "cell_type": "markdown",
   "metadata": {
    "id": "pCQJGOjZs5KX"
   },
   "source": [
    "Here the drive module is imported, allowing the Colab environment to access files within Google Drive. The notebook is then mounted to Google Drive so that it can interact with the files."
   ]
  },
  {
   "cell_type": "code",
   "execution_count": null,
   "metadata": {
    "colab": {
     "base_uri": "https://localhost:8080/"
    },
    "executionInfo": {
     "elapsed": 36343,
     "status": "ok",
     "timestamp": 1718300346106,
     "user": {
      "displayName": "Ryleigh Bruce",
      "userId": "04866625339349492872"
     },
     "user_tz": 300
    },
    "id": "aVHZ8ZCUs9cK",
    "outputId": "77b6a54a-41a0-485d-e379-9375871f0fbd"
   },
   "outputs": [],
   "source": [
    "from google.colab import drive\n",
    "drive.mount('/content/drive')"
   ]
  },
  {
   "cell_type": "markdown",
   "metadata": {
    "id": "FtUcuz1ws-fn"
   },
   "source": [
    "# Volume of Sightings Across Locations Per Month"
   ]
  },
  {
   "cell_type": "markdown",
   "metadata": {
    "id": "d7dEJsoqzxpS"
   },
   "source": [
    "## Module: Importing the Necessary Libraries and Loading them into a DataFrame"
   ]
  },
  {
   "cell_type": "markdown",
   "metadata": {
    "id": "t5gq3WTIJ9aY"
   },
   "source": [
    "Here the `pandas` and `matplotlib.pyplot` libraries are being imported in order to use their data manipulation and visualization properties later on in the script. `pandas` will be particularly useful for transforming the data found within the given spreadsheet into an easier to manipulate DataFrame format, and `matplotlib.pyplot` is crucial for generating the graph."
   ]
  },
  {
   "cell_type": "code",
   "execution_count": null,
   "metadata": {
    "id": "lq2b6l2QGKgi"
   },
   "outputs": [],
   "source": [
    "# Import necessary libraries\n",
    "import pandas as pd\n",
    "import matplotlib.pyplot as plt"
   ]
  },
  {
   "cell_type": "markdown",
   "metadata": {
    "id": "Otb3wT4BJ9wh"
   },
   "source": [
    "The `file_path` variable is defined as the path to the Excel file containing the necessary information for graph generation. The `df` function from the `pandas` library transforms the information from the file into DataFrame format for further manipulation."
   ]
  },
  {
   "cell_type": "code",
   "execution_count": null,
   "metadata": {
    "id": "q01bscX9GM_B"
   },
   "outputs": [],
   "source": [
    "# Read the Excel file\n",
    "file_path = '/content/drive/MyDrive/shared-data/Notebook datafiles/combined_csv_animal_flag_justanimals_location_flat.xlsx'  # Change this to the correct file path if necessary\n",
    "df = pd.read_excel(file_path)"
   ]
  },
  {
   "cell_type": "markdown",
   "metadata": {
    "id": "hiX59T4qJ_jE"
   },
   "source": [
    "The `print(df.head())` code returns the first five rows of the DataFrame in order to view the contained data and ensure the file has been properly transformed into a DataFrame."
   ]
  },
  {
   "cell_type": "code",
   "execution_count": null,
   "metadata": {
    "colab": {
     "base_uri": "https://localhost:8080/"
    },
    "executionInfo": {
     "elapsed": 17,
     "status": "ok",
     "timestamp": 1718300403502,
     "user": {
      "displayName": "Ryleigh Bruce",
      "userId": "04866625339349492872"
     },
     "user_tz": 300
    },
    "id": "e2D9tFnjGOTb",
    "outputId": "35dfea00-3932-48ff-ba3d-0e63c2927bcd"
   },
   "outputs": [],
   "source": [
    "# Check the first few rows of the DataFrame to ensure it's loaded correctly\n",
    "print(df.head())"
   ]
  },
  {
   "cell_type": "markdown",
   "metadata": {
    "id": "cIexhvlfKA-o"
   },
   "source": [
    "Here the `pd.to_datetime(df[‘Date’])` function extracts the information from the ‘Date’ column within the DataFrame and turns that data into datetime format. This conversion is critical for performing accurate time-based calculations."
   ]
  },
  {
   "cell_type": "code",
   "execution_count": null,
   "metadata": {
    "id": "PK6hyixIzaI8"
   },
   "outputs": [],
   "source": [
    "# Ensure the Date column is treated as a datetime object\n",
    "df['Date'] = pd.to_datetime(df['Date'])"
   ]
  },
  {
   "cell_type": "markdown",
   "metadata": {
    "id": "oQ-T9Lcucj76"
   },
   "source": [
    "## Module: Manipulating the Dataframe"
   ]
  },
  {
   "cell_type": "markdown",
   "metadata": {
    "id": "s8i5c6RnKBj5"
   },
   "source": [
    "The `.strftime(‘%B’)` method is used to specify the format of the datetime information from the 'Date' column. The `%B` code returns the full name of the month."
   ]
  },
  {
   "cell_type": "markdown",
   "metadata": {
    "id": "a4YUrGGzz_ZB"
   },
   "source": [
    "`df[‘Month’]` creates a new column within the DataFrame called ‘Month’, which stores the formatted information extracted from the ‘Date’ column."
   ]
  },
  {
   "cell_type": "code",
   "execution_count": null,
   "metadata": {
    "id": "uk8w2H-YGSiT"
   },
   "outputs": [],
   "source": [
    "# Extract the month from the Date column\n",
    "df['Month'] = df['Date'].dt.strftime('%B')"
   ]
  },
  {
   "cell_type": "markdown",
   "metadata": {
    "id": "vA4CQpYhKCFX"
   },
   "source": [
    "Using `df` to refer to the data stored within the DataFrame, this code accesses the information in the AdultCount and JuvenileCount columns, and uses `df[‘AdultCount’] + [‘JuvenileCount’]` to calculate the value of `df[‘TotalSightings’]`. This information is stored within the DataFrame as a new column called ‘TotalSightings’."
   ]
  },
  {
   "cell_type": "code",
   "execution_count": null,
   "metadata": {
    "id": "Bg8E0TQ6GTHA"
   },
   "outputs": [],
   "source": [
    "# Calculate the total number of animals spotted (AdultCount + JuvenileCount)\n",
    "df['TotalSightings'] = df['AdultCount'] + df['JuvenileCount']"
   ]
  },
  {
   "cell_type": "markdown",
   "metadata": {
    "id": "Ijplnu49KCdd"
   },
   "source": [
    "Here the DataFrame is grouped by the ‘locationID’ and ‘Month’ columns, ensuring that separate sums will be calculated for each unique combination of location ID and month. The `sum` operation is then used to calculate the sum of each ‘TotalSightings’ column per unique grouping. A new DataFrame called `aggregated_data` is then created to store the new data."
   ]
  },
  {
   "cell_type": "code",
   "execution_count": null,
   "metadata": {
    "id": "bY4vRPm3GVPC"
   },
   "outputs": [],
   "source": [
    "# Aggregate the data to sum the total sightings per month and location\n",
    "aggregated_data = df.groupby(['locationID', 'Month']).agg({'TotalSightings': 'sum'}).reset_index()"
   ]
  },
  {
   "cell_type": "markdown",
   "metadata": {
    "id": "YwGn3cvkcqDH"
   },
   "source": [
    "## Module: Plotting the Bar Graph"
   ]
  },
  {
   "cell_type": "markdown",
   "metadata": {
    "id": "Y36NMjs6KC2d"
   },
   "source": [
    "This code begins by creating an empty figure and set of subplots, `fig, ax`, while `figsize=(14, 8)` sets the dimensions of the figure in inches.\n",
    "\n",
    "\n"
   ]
  },
  {
   "cell_type": "markdown",
   "metadata": {
    "id": "_kOneK7__DxD"
   },
   "source": [
    "Then the code retrieves all of the unique month values from the DataFrame. The `for month in aggregated_data[‘Month’].unique():` iterates over each unique month, while `subset = aggregated_data[aggregated_data[‘Month’] == month]` filters the information so that only rows matching the current month of the loop is included in the creation of that month’s subset."
   ]
  },
  {
   "cell_type": "markdown",
   "metadata": {
    "id": "eWgJFICt0mp3"
   },
   "source": [
    "`ax.bar()` creates a bar plot for the given subset, and the x-axis values and height of the bars are set as ‘locationID’ and ‘TotalSightings’ respectively."
   ]
  },
  {
   "cell_type": "markdown",
   "metadata": {
    "id": "ziD8pA_j_G5h"
   },
   "source": [
    "Next labels are assigned to the x and y axes, and a title is provided for the entire graph. `ax.legend(title=’Month’)` generates a title for the legend."
   ]
  },
  {
   "cell_type": "markdown",
   "metadata": {
    "id": "W2GgiOFJ0smW"
   },
   "source": [
    "Finally, the graph is visualized using `plt.show()`."
   ]
  },
  {
   "cell_type": "code",
   "execution_count": null,
   "metadata": {
    "colab": {
     "base_uri": "https://localhost:8080/",
     "height": 722
    },
    "executionInfo": {
     "elapsed": 802,
     "status": "ok",
     "timestamp": 1718300404910,
     "user": {
      "displayName": "Ryleigh Bruce",
      "userId": "04866625339349492872"
     },
     "user_tz": 300
    },
    "id": "PLchzK4ZGXo8",
    "outputId": "b220b585-cefc-4a50-d47c-01a5cc91f36c"
   },
   "outputs": [],
   "source": [
    "# Generate a bar plot\n",
    "fig, ax = plt.subplots(figsize=(14, 8))\n",
    "\n",
    "# Create a bar plot for each month and location ID\n",
    "for month in aggregated_data['Month'].unique():\n",
    "    subset = aggregated_data[aggregated_data['Month'] == month]\n",
    "    ax.bar(subset['locationID'], subset['TotalSightings'], label=month)\n",
    "\n",
    "# Set the labels and title\n",
    "ax.set_xlabel('Location ID')\n",
    "ax.set_ylabel('Number of Sightings')\n",
    "ax.set_title('Volume of Species Sightings by Location ID and Month')\n",
    "ax.legend(title='Month')\n",
    "\n",
    "ax.set_xticks(aggregated_data['locationID'].unique())\n",
    "ax.set_xticklabels(aggregated_data['locationID'].unique(), rotation=90)\n",
    "\n",
    "plt.xticks(rotation=90)\n",
    "\n",
    "# Display the plot\n",
    "plt.show()"
   ]
  },
  {
   "cell_type": "markdown",
   "metadata": {
    "id": "Gsa4mCvscMfR"
   },
   "source": [
    "# Volume of Sightings Across Locations Per Season"
   ]
  },
  {
   "cell_type": "markdown",
   "metadata": {
    "id": "8HcebYpXAug3"
   },
   "source": [
    "In order to create a bar graph depicting the volume of sightings across locations by season, the first few blocks of code will remain the same as in the previous script."
   ]
  },
  {
   "cell_type": "code",
   "execution_count": null,
   "metadata": {
    "id": "ynP7Kfb2AJVA"
   },
   "outputs": [],
   "source": [
    "# Import necessary libraries\n",
    "import pandas as pd\n",
    "import matplotlib.pyplot as plt\n",
    "\n",
    "# Read the Excel file\n",
    "file_path = '/content/drive/MyDrive/shared-data/Notebook datafiles/combined_csv_animal_flag_justanimals_location_flat.xlsx'\n",
    "df = pd.read_excel(file_path)\n",
    "\n",
    "# Ensure the Date column is treated as a datetime object\n",
    "df['Date'] = pd.to_datetime(df['Date'])\n",
    "\n",
    "# Extract the month from the Date column\n",
    "df['Month'] = df['Date'].dt.month"
   ]
  },
  {
   "cell_type": "markdown",
   "metadata": {
    "id": "T60HRxJspa-r"
   },
   "source": [
    "## Module: Manipulating the Dataframe"
   ]
  },
  {
   "cell_type": "markdown",
   "metadata": {
    "id": "OrVOqAVP07uY"
   },
   "source": [
    "A dictionary is created and assigned to the `month_to_season` variable. The dictionary stores the months of the year in integer format and their corresponding seasons."
   ]
  },
  {
   "cell_type": "code",
   "execution_count": null,
   "metadata": {
    "id": "LHgC3b0aAMFa"
   },
   "outputs": [],
   "source": [
    "# Map the months to seasons\n",
    "month_to_season = {3: 'Spring', 4: 'Spring', 5: 'Spring',\n",
    "                   6: 'Summer', 7: 'Summer', 8: 'Summer',\n",
    "                   9: 'Autumn', 10: 'Autumn', 11: 'Autumn',\n",
    "                   12: 'Winter', 1: 'Winter', 2: 'Winter'}"
   ]
  },
  {
   "cell_type": "markdown",
   "metadata": {
    "id": "EkkIf8sSAvVl"
   },
   "source": [
    "A new column is created in the DataFrame called ‘Season’ and the script populates the column with the corresponding value for each month in the ‘Month’ column of the DataFrame."
   ]
  },
  {
   "cell_type": "code",
   "execution_count": null,
   "metadata": {
    "id": "Oixixx3dAN7X"
   },
   "outputs": [],
   "source": [
    "df['Season'] = df['Month'].map(month_to_season)"
   ]
  },
  {
   "cell_type": "markdown",
   "metadata": {
    "id": "T-JSAEtCAvxC"
   },
   "source": [
    "The calculation of the ‘TotalSightings’ variable, creation of the `aggregated_data` DataFrame, and figure generation are all the same as the previous bar graph script."
   ]
  },
  {
   "cell_type": "code",
   "execution_count": null,
   "metadata": {
    "id": "huqTeL4fmAPK"
   },
   "outputs": [],
   "source": [
    "# Calculate the total number of animals spotted (AdultCount + JuvenileCount)\n",
    "df['TotalSightings'] = df['AdultCount'] + df['JuvenileCount']\n",
    "\n",
    "# Aggregate the data to sum the total sightings per month and location\n",
    "aggregated_data = df.groupby(['locationID', 'Season']).agg({'TotalSightings': 'sum'}).reset_index()\n",
    "\n",
    "# Generate a bar plot\n",
    "fig, ax = plt.subplots(figsize=(14, 8))"
   ]
  },
  {
   "cell_type": "markdown",
   "metadata": {
    "id": "VIAa_p-8soef"
   },
   "source": [
    "## Module: Plotting the Graph"
   ]
  },
  {
   "cell_type": "markdown",
   "metadata": {
    "id": "sOHAoGkBm_GJ"
   },
   "source": [
    "Here the `plt.get_cmap()` function is used to import the ‘tab20c’ color map. Colors from the imported color map are then assigned to each season."
   ]
  },
  {
   "cell_type": "code",
   "execution_count": null,
   "metadata": {
    "id": "0rWbWU0RmDwH"
   },
   "outputs": [],
   "source": [
    "# Get the colormap\n",
    "color_map = plt.get_cmap('tab20c')\n",
    "\n",
    "# Map each season to a color from the colormap\n",
    "season_to_color = {'Spring': color_map(0), 'Summer': color_map(4), 'Autumn': color_map(8), 'Winter': color_map(12)}"
   ]
  },
  {
   "cell_type": "markdown",
   "metadata": {
    "id": "fW_rrzmvoe46"
   },
   "source": [
    "The season information within the `aggregated_data` DataFrame is iterated over and filtered, just as the month data was in the previous script. The x-axis values, bar heights, and labels are also determined in the same way."
   ]
  },
  {
   "cell_type": "code",
   "execution_count": null,
   "metadata": {
    "id": "XtsVp0sgmnmz"
   },
   "outputs": [],
   "source": [
    "# Create a bar plot for each season and location ID\n",
    "for season in aggregated_data['Season'].unique():\n",
    "    subset = aggregated_data[aggregated_data['Season'] == season]\n",
    "    ax.bar(subset['locationID'], subset['TotalSightings'], label=season, color=season_to_color[season])"
   ]
  },
  {
   "cell_type": "markdown",
   "metadata": {
    "id": "ub-7WTxAp2kV"
   },
   "source": [
    "This code block simply formats the x-ticks and x-tick labels appropriately for the graph. `rotation=90` rotates the x-tick labels by 90 degrees to maintain legibility.\n"
   ]
  },
  {
   "cell_type": "code",
   "execution_count": null,
   "metadata": {
    "id": "gwCztxSNmoSW"
   },
   "outputs": [],
   "source": [
    "ax.set_xticks(aggregated_data['locationID'].unique())\n",
    "ax.set_xticklabels(aggregated_data['locationID'].unique(), rotation=90)"
   ]
  },
  {
   "cell_type": "markdown",
   "metadata": {
    "id": "jY4L9WILp27h"
   },
   "source": [
    "Here the labels for each axis are set, as well as the title for the overall graph. `plt.xticks(rotation=90)` ensures that all of the x-tick labels will be displayed, and the plot is visualized using `plt.show()`."
   ]
  },
  {
   "cell_type": "code",
   "execution_count": null,
   "metadata": {
    "colab": {
     "base_uri": "https://localhost:8080/",
     "height": 722
    },
    "executionInfo": {
     "elapsed": 757,
     "status": "ok",
     "timestamp": 1718297431684,
     "user": {
      "displayName": "Ryleigh Bruce",
      "userId": "04866625339349492872"
     },
     "user_tz": 300
    },
    "id": "EdUHEp6fATgA",
    "outputId": "af5e913c-42cb-4d32-9796-4bc7a02bc848"
   },
   "outputs": [],
   "source": [
    "# Set the labels and title\n",
    "ax.set_xlabel('Location ID')\n",
    "ax.set_ylabel('Number of Sightings')\n",
    "ax.set_title('Volume of Species Sightings by Location ID and Season')\n",
    "ax.legend(title='Season')\n",
    "\n",
    "# Make sure all X labels are displayed\n",
    "plt.xticks(rotation=90)\n",
    "\n",
    "# Display the plot\n",
    "plt.show()"
   ]
  },
  {
   "cell_type": "markdown",
   "metadata": {
    "id": "7cGGIWhN3gtY"
   },
   "source": [
    "# Volume of Sightings Across Locations Per Species"
   ]
  },
  {
   "cell_type": "markdown",
   "metadata": {
    "id": "qUMAlB6Bt8aQ"
   },
   "source": [
    "In order to plot a bar graph to depict the volume of sightings per species across locations, the same libraries must be imported with the addition of the `numpy` library. The `numby` library is crucial for working with arrays and large data."
   ]
  },
  {
   "cell_type": "code",
   "execution_count": null,
   "metadata": {
    "id": "RYCgqUGNtHc9"
   },
   "outputs": [],
   "source": [
    "# Import necessary libraries\n",
    "import pandas as pd\n",
    "import matplotlib.pyplot as plt\n",
    "import numpy as np"
   ]
  },
  {
   "cell_type": "markdown",
   "metadata": {
    "id": "gn2OL7AnuCOx"
   },
   "source": [
    "Just like the previous two scripts, the Excel sheet must be converted into a two-dimensional DataFrame before any data manipulation can take place.\n"
   ]
  },
  {
   "cell_type": "code",
   "execution_count": null,
   "metadata": {
    "id": "cu-tQrOAtL3d"
   },
   "outputs": [],
   "source": [
    "# Read the Excel file\n",
    "file_path = '/content/drive/MyDrive/shared-data/Notebook datafiles/combined_csv_animal_flag_justanimals_location_flat.xlsx'  # Change this to the correct file path if necessary\n",
    "df = pd.read_excel(file_path)"
   ]
  },
  {
   "cell_type": "markdown",
   "metadata": {
    "id": "EQHsSZBewv0_"
   },
   "source": [
    "## Module: Manipulating the Dataframe"
   ]
  },
  {
   "cell_type": "markdown",
   "metadata": {
    "id": "UM_FDD-EuLrA"
   },
   "source": [
    "The species information does not need to be converted into any other formats before the graph is generated, so the manipulation of the DataFrame will be much simpler for this script."
   ]
  },
  {
   "cell_type": "markdown",
   "metadata": {
    "id": "WAZkWGdx1iGK"
   },
   "source": [
    "The ‘TotalSightings’ column will be added to the DataFrame after the values from the ‘AdultCount’ and ‘JuvenileCount’ columns have been added together. Then the rows will be grouped by locationID and SpeciesList, creating a new DataFrame called `aggregated_data`. An empty figure is created to hold the plot and the `num_categories` function determines the length of the ‘SpeciesList’ column in the DataFrame in order to count the number of animal categories that exist."
   ]
  },
  {
   "cell_type": "code",
   "execution_count": null,
   "metadata": {
    "id": "7AYdWrXBtMjc"
   },
   "outputs": [],
   "source": [
    "# Ensure the Date column is treated as a datetime object\n",
    "df['Date'] = pd.to_datetime(df['Date'])\n",
    "\n",
    "# Calculate the total number of animals spotted (AdultCount + JuvenileCount)\n",
    "df['TotalSightings'] = df['AdultCount'] + df['JuvenileCount']\n",
    "\n",
    "# Aggregate the data to sum the total sightings per species and location\n",
    "aggregated_data = df.groupby(['locationID', 'SpeciesList']).agg({'TotalSightings': 'sum'}).reset_index()\n",
    "\n",
    "# Set up the figure and axis for plotting\n",
    "fig, ax = plt.subplots(figsize=(14, 8))\n",
    "\n",
    "# Determine the number of unique species\n",
    "num_categories = len(aggregated_data['SpeciesList'].unique())"
   ]
  },
  {
   "cell_type": "markdown",
   "metadata": {
    "id": "EgtKrdeGw2qO"
   },
   "source": [
    "## Module: Plotting the Graph"
   ]
  },
  {
   "cell_type": "markdown",
   "metadata": {
    "id": "bMxlgcY4vUvq"
   },
   "source": [
    "The tab20c colormap is imported using the `plt.get_cmpa()` function, and `np.linespace(0, 1, num_categories)` creates an equally spaced list of `num_categories` between 0 and 1 in order to evenly spread the colors selected for each species. A dictionary called `species_to_color` is then created to map a color to each species. The final code block ensures that there is a bar plot for each individual species."
   ]
  },
  {
   "cell_type": "code",
   "execution_count": null,
   "metadata": {
    "id": "5edhooKdtPLk"
   },
   "outputs": [],
   "source": [
    "# Create color map using the specified line\n",
    "colors = plt.get_cmap('tab20c')(np.linspace(0, 1, num_categories))\n",
    "\n",
    "# Generate a mapping of SpeciesList to colors\n",
    "species_to_color = {species: colors[i] for i, species in enumerate(sorted(aggregated_data['SpeciesList'].unique()))}\n",
    "\n",
    "# Iterate over each species to plot\n",
    "for species, group in aggregated_data.groupby('SpeciesList'):\n",
    "    ax.bar(group['locationID'], group['TotalSightings'], label=species, color=species_to_color[species])"
   ]
  },
  {
   "cell_type": "markdown",
   "metadata": {
    "id": "qu3SabnVwVvM"
   },
   "source": [
    "The graph is plotted in the same way as the previous two scripts, with a small difference to ensure the legend does not clip the graph. `plt.tight_layout(rect=[0, 0, 0.85, 1])` ensures that there is enough space left for the legend."
   ]
  },
  {
   "cell_type": "code",
   "execution_count": null,
   "metadata": {
    "colab": {
     "base_uri": "https://localhost:8080/",
     "height": 807
    },
    "executionInfo": {
     "elapsed": 52868,
     "status": "ok",
     "timestamp": 1718300694804,
     "user": {
      "displayName": "Ryleigh Bruce",
      "userId": "04866625339349492872"
     },
     "user_tz": 300
    },
    "id": "dmURAah-n-EK",
    "outputId": "ec29f085-1e71-4fc5-c0da-8c555be044e1"
   },
   "outputs": [],
   "source": [
    "# Set the labels and title\n",
    "ax.set_xlabel('Location ID')\n",
    "ax.set_ylabel('Number of Sightings')\n",
    "ax.set_title('Volume of Species Sightings by Location ID and Species')\n",
    "ax.legend(title='Species', bbox_to_anchor=(1.05, 1), loc='upper left')\n",
    "\n",
    "# Ensure x-axis shows every location ID\n",
    "ax.set_xticks(aggregated_data['locationID'].unique())\n",
    "ax.set_xticklabels(aggregated_data['locationID'].unique(), rotation=90)\n",
    "\n",
    "# Improve layout and avoid clipping of the legend or x-labels\n",
    "plt.tight_layout(rect=[0, 0, 0.85, 1])  # Adjusts the plot limits to leave space for the legend\n",
    "\n",
    "# Display the plot\n",
    "plt.show()"
   ]
  }
 ],
 "metadata": {
  "colab": {
   "authorship_tag": "ABX9TyOncPcpZBcS23kSLZaYsSxE",
   "collapsed_sections": [
    "QWKvExQ5s37a",
    "FtUcuz1ws-fn",
    "d7dEJsoqzxpS",
    "oQ-T9Lcucj76",
    "YwGn3cvkcqDH",
    "Gsa4mCvscMfR",
    "T60HRxJspa-r",
    "VIAa_p-8soef",
    "7cGGIWhN3gtY",
    "EQHsSZBewv0_",
    "EgtKrdeGw2qO"
   ],
   "provenance": []
  },
  "kernelspec": {
   "display_name": "Python 3",
   "name": "python3"
  },
  "language_info": {
   "name": "python"
  }
 },
 "nbformat": 4,
 "nbformat_minor": 0
}
